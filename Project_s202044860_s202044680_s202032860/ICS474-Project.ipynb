{
 "cells": [
  {
   "cell_type": "code",
   "execution_count": 16,
   "id": "b0021111",
   "metadata": {},
   "outputs": [
    {
     "name": "stdout",
     "output_type": "stream",
     "text": [
      "<class 'pandas.core.frame.DataFrame'>\n",
      "RangeIndex: 1155 entries, 0 to 1154\n",
      "Data columns (total 7 columns):\n",
      " #   Column      Non-Null Count  Dtype  \n",
      "---  ------      --------------  -----  \n",
      " 0   START_DATE  1155 non-null   object \n",
      " 1   END_DATE    1155 non-null   object \n",
      " 2   CATEGORY    1155 non-null   object \n",
      " 3   START       1155 non-null   object \n",
      " 4   STOP        1155 non-null   object \n",
      " 5   MILES       1155 non-null   float64\n",
      " 6   PURPOSE     653 non-null    object \n",
      "dtypes: float64(1), object(6)\n",
      "memory usage: 63.3+ KB\n"
     ]
    },
    {
     "data": {
      "text/plain": [
       "None"
      ]
     },
     "metadata": {},
     "output_type": "display_data"
    },
    {
     "data": {
      "text/html": [
       "<div>\n",
       "<style scoped>\n",
       "    .dataframe tbody tr th:only-of-type {\n",
       "        vertical-align: middle;\n",
       "    }\n",
       "\n",
       "    .dataframe tbody tr th {\n",
       "        vertical-align: top;\n",
       "    }\n",
       "\n",
       "    .dataframe thead th {\n",
       "        text-align: right;\n",
       "    }\n",
       "</style>\n",
       "<table border=\"1\" class=\"dataframe\">\n",
       "  <thead>\n",
       "    <tr style=\"text-align: right;\">\n",
       "      <th></th>\n",
       "      <th>START_DATE</th>\n",
       "      <th>END_DATE</th>\n",
       "      <th>CATEGORY</th>\n",
       "      <th>START</th>\n",
       "      <th>STOP</th>\n",
       "      <th>MILES</th>\n",
       "      <th>PURPOSE</th>\n",
       "    </tr>\n",
       "  </thead>\n",
       "  <tbody>\n",
       "    <tr>\n",
       "      <th>0</th>\n",
       "      <td>1/1/2016 21:11</td>\n",
       "      <td>1/1/2016 21:17</td>\n",
       "      <td>Business</td>\n",
       "      <td>Fort Pierce</td>\n",
       "      <td>Fort Pierce</td>\n",
       "      <td>5.1</td>\n",
       "      <td>Meal/Entertain</td>\n",
       "    </tr>\n",
       "    <tr>\n",
       "      <th>1</th>\n",
       "      <td>1/2/2016 1:25</td>\n",
       "      <td>1/2/2016 1:37</td>\n",
       "      <td>Business</td>\n",
       "      <td>Fort Pierce</td>\n",
       "      <td>Fort Pierce</td>\n",
       "      <td>5.0</td>\n",
       "      <td>NaN</td>\n",
       "    </tr>\n",
       "    <tr>\n",
       "      <th>2</th>\n",
       "      <td>1/2/2016 20:25</td>\n",
       "      <td>1/2/2016 20:38</td>\n",
       "      <td>Business</td>\n",
       "      <td>Fort Pierce</td>\n",
       "      <td>Fort Pierce</td>\n",
       "      <td>4.8</td>\n",
       "      <td>Errand/Supplies</td>\n",
       "    </tr>\n",
       "    <tr>\n",
       "      <th>3</th>\n",
       "      <td>1/5/2016 17:31</td>\n",
       "      <td>1/5/2016 17:45</td>\n",
       "      <td>Business</td>\n",
       "      <td>Fort Pierce</td>\n",
       "      <td>Fort Pierce</td>\n",
       "      <td>4.7</td>\n",
       "      <td>Meeting</td>\n",
       "    </tr>\n",
       "    <tr>\n",
       "      <th>4</th>\n",
       "      <td>1/6/2016 14:42</td>\n",
       "      <td>1/6/2016 15:49</td>\n",
       "      <td>Business</td>\n",
       "      <td>Fort Pierce</td>\n",
       "      <td>West Palm Beach</td>\n",
       "      <td>63.7</td>\n",
       "      <td>Customer Visit</td>\n",
       "    </tr>\n",
       "  </tbody>\n",
       "</table>\n",
       "</div>"
      ],
      "text/plain": [
       "       START_DATE        END_DATE  CATEGORY        START             STOP  \\\n",
       "0  1/1/2016 21:11  1/1/2016 21:17  Business  Fort Pierce      Fort Pierce   \n",
       "1   1/2/2016 1:25   1/2/2016 1:37  Business  Fort Pierce      Fort Pierce   \n",
       "2  1/2/2016 20:25  1/2/2016 20:38  Business  Fort Pierce      Fort Pierce   \n",
       "3  1/5/2016 17:31  1/5/2016 17:45  Business  Fort Pierce      Fort Pierce   \n",
       "4  1/6/2016 14:42  1/6/2016 15:49  Business  Fort Pierce  West Palm Beach   \n",
       "\n",
       "   MILES          PURPOSE  \n",
       "0    5.1   Meal/Entertain  \n",
       "1    5.0              NaN  \n",
       "2    4.8  Errand/Supplies  \n",
       "3    4.7          Meeting  \n",
       "4   63.7   Customer Visit  "
      ]
     },
     "metadata": {},
     "output_type": "display_data"
    }
   ],
   "source": [
    "import pandas as pd\n",
    "\n",
    "# Load the dataset\n",
    "file_path = 'UberDataset.csv'\n",
    "data = pd.read_csv(file_path)\n",
    "\n",
    "# Display the first few rows and basic information to get an overview of the dataset\n",
    "data_info = data.info()\n",
    "first_rows = data.head()\n",
    "\n",
    "display(data_info, first_rows)\n"
   ]
  },
  {
   "cell_type": "code",
   "execution_count": 17,
   "id": "8b374162",
   "metadata": {},
   "outputs": [
    {
     "data": {
      "text/plain": [
       "START_DATE      0\n",
       "END_DATE        0\n",
       "CATEGORY        0\n",
       "START           0\n",
       "STOP            0\n",
       "MILES           0\n",
       "PURPOSE       502\n",
       "dtype: int64"
      ]
     },
     "metadata": {},
     "output_type": "display_data"
    },
    {
     "data": {
      "text/plain": [
       "1"
      ]
     },
     "metadata": {},
     "output_type": "display_data"
    }
   ],
   "source": [
    "# Check for missing values and duplicate rows in the dataset\n",
    "missing_values = data.isnull().sum()\n",
    "duplicates = data.duplicated().sum()\n",
    "\n",
    "display(missing_values, duplicates)\n"
   ]
  },
  {
   "cell_type": "code",
   "execution_count": 18,
   "id": "bd861463",
   "metadata": {},
   "outputs": [
    {
     "data": {
      "text/html": [
       "<div>\n",
       "<style scoped>\n",
       "    .dataframe tbody tr th:only-of-type {\n",
       "        vertical-align: middle;\n",
       "    }\n",
       "\n",
       "    .dataframe tbody tr th {\n",
       "        vertical-align: top;\n",
       "    }\n",
       "\n",
       "    .dataframe thead th {\n",
       "        text-align: right;\n",
       "    }\n",
       "</style>\n",
       "<table border=\"1\" class=\"dataframe\">\n",
       "  <thead>\n",
       "    <tr style=\"text-align: right;\">\n",
       "      <th></th>\n",
       "      <th>MILES</th>\n",
       "    </tr>\n",
       "  </thead>\n",
       "  <tbody>\n",
       "    <tr>\n",
       "      <th>count</th>\n",
       "      <td>1155.000000</td>\n",
       "    </tr>\n",
       "    <tr>\n",
       "      <th>mean</th>\n",
       "      <td>10.566840</td>\n",
       "    </tr>\n",
       "    <tr>\n",
       "      <th>std</th>\n",
       "      <td>21.579106</td>\n",
       "    </tr>\n",
       "    <tr>\n",
       "      <th>min</th>\n",
       "      <td>0.500000</td>\n",
       "    </tr>\n",
       "    <tr>\n",
       "      <th>25%</th>\n",
       "      <td>2.900000</td>\n",
       "    </tr>\n",
       "    <tr>\n",
       "      <th>50%</th>\n",
       "      <td>6.000000</td>\n",
       "    </tr>\n",
       "    <tr>\n",
       "      <th>75%</th>\n",
       "      <td>10.400000</td>\n",
       "    </tr>\n",
       "    <tr>\n",
       "      <th>max</th>\n",
       "      <td>310.300000</td>\n",
       "    </tr>\n",
       "  </tbody>\n",
       "</table>\n",
       "</div>"
      ],
      "text/plain": [
       "             MILES\n",
       "count  1155.000000\n",
       "mean     10.566840\n",
       "std      21.579106\n",
       "min       0.500000\n",
       "25%       2.900000\n",
       "50%       6.000000\n",
       "75%      10.400000\n",
       "max     310.300000"
      ]
     },
     "metadata": {},
     "output_type": "display_data"
    }
   ],
   "source": [
    "# Display a statistical summary of the numerical column(s)\n",
    "statistical_summary = data.describe()\n",
    "\n",
    "display(statistical_summary)\n"
   ]
  },
  {
   "cell_type": "code",
   "execution_count": 27,
   "id": "bcc91243",
   "metadata": {},
   "outputs": [
    {
     "data": {
      "image/png": "[encoded data removed]",
      "text/plain": [
       "<Figure size 720x432 with 1 Axes>"
      ]
     },
     "metadata": {
      "needs_background": "light"
     },
     "output_type": "display_data"
    }
   ],
   "source": [
    "import matplotlib.pyplot as plt\n",
    "\n",
    "# Plot a histogram for the MILES feature to show the distribution of trip distances\n",
    "plt.figure(figsize=(10, 6))\n",
    "plt.hist(data['MILES'], bins=30, edgecolor='black')\n",
    "plt.title('Distribution of Trip Distances (MILES)')\n",
    "plt.xlabel('Miles')\n",
    "plt.ylabel('Frequency')\n",
    "plt.show()\n",
    "\n",
    "\n"
   ]
  },
  {
   "cell_type": "code",
   "execution_count": 40,
   "id": "79f4d79f",
   "metadata": {},
   "outputs": [
    {
     "data": {
      "image/png": "[encoded data removed]",
      "text/plain": [
       "<Figure size 864x432 with 1 Axes>"
      ]
     },
     "metadata": {
      "needs_background": "light"
     },
     "output_type": "display_data"
    },
    {
     "data": {
      "image/png": "[encoded data removed]",
      "text/plain": [
       "<Figure size 720x432 with 2 Axes>"
      ]
     },
     "metadata": {
      "needs_background": "light"
     },
     "output_type": "display_data"
    }
   ],
   "source": [
    "# Scatter plot of MILES by PURPOSE to visualize relationship\n",
    "plt.figure(figsize=(12, 6))\n",
    "sns.stripplot(data=data_cleaned, x='PURPOSE', y='MILES', jitter=True, alpha=0.7)\n",
    "plt.title(\"MILES by PURPOSE\")\n",
    "plt.xlabel(\"PURPOSE\")\n",
    "plt.ylabel(\"MILES\")\n",
    "plt.xticks(rotation=90)\n",
    "plt.tight_layout()\n",
    "plt.show()\n",
    "\n",
    "\n",
    "# Heatmap for CATEGORY and PURPOSE association using Chi-Square contingency table\n",
    "plt.figure(figsize=(10, 6))\n",
    "sns.heatmap(contingency_table, annot=True, cmap=\"YlGnBu\", fmt='d')\n",
    "plt.title(\"Heatmap of CATEGORY and PURPOSE\")\n",
    "plt.xlabel(\"CATEGORY\")\n",
    "plt.ylabel(\"PURPOSE\")\n",
    "plt.tight_layout()\n",
    "plt.show()\n"
   ]
  },
  {
   "cell_type": "code",
   "execution_count": 29,
   "id": "0096af8f",
   "metadata": {},
   "outputs": [
    {
     "data": {
      "image/png": "[encoded data removed]",
      "text/plain": [
       "<Figure size 576x360 with 1 Axes>"
      ]
     },
     "metadata": {
      "needs_background": "light"
     },
     "output_type": "display_data"
    }
   ],
   "source": [
    "# Plot a box plot for the MILES feature to detect potential outliers\n",
    "plt.figure(figsize=(8, 5))\n",
    "plt.boxplot(data['MILES'], vert=False)\n",
    "plt.title('Outlier Detection in Trip Distances (MILES)')\n",
    "plt.xlabel('Miles')\n",
    "plt.show()\n"
   ]
  },
  {
   "cell_type": "code",
   "execution_count": 30,
   "id": "40609450",
   "metadata": {},
   "outputs": [
    {
     "data": {
      "text/html": [
       "<div>\n",
       "<style scoped>\n",
       "    .dataframe tbody tr th:only-of-type {\n",
       "        vertical-align: middle;\n",
       "    }\n",
       "\n",
       "    .dataframe tbody tr th {\n",
       "        vertical-align: top;\n",
       "    }\n",
       "\n",
       "    .dataframe thead th {\n",
       "        text-align: right;\n",
       "    }\n",
       "</style>\n",
       "<table border=\"1\" class=\"dataframe\">\n",
       "  <thead>\n",
       "    <tr style=\"text-align: right;\">\n",
       "      <th></th>\n",
       "      <th>START_DATE</th>\n",
       "      <th>END_DATE</th>\n",
       "      <th>START</th>\n",
       "      <th>STOP</th>\n",
       "      <th>MILES</th>\n",
       "      <th>CATEGORY_Personal</th>\n",
       "      <th>PURPOSE_Between Offices</th>\n",
       "      <th>PURPOSE_Charity ($)</th>\n",
       "      <th>PURPOSE_Commute</th>\n",
       "      <th>PURPOSE_Customer Visit</th>\n",
       "      <th>PURPOSE_Errand/Supplies</th>\n",
       "      <th>PURPOSE_Meal/Entertain</th>\n",
       "      <th>PURPOSE_Meeting</th>\n",
       "      <th>PURPOSE_Moving</th>\n",
       "      <th>PURPOSE_Temporary Site</th>\n",
       "    </tr>\n",
       "  </thead>\n",
       "  <tbody>\n",
       "    <tr>\n",
       "      <th>0</th>\n",
       "      <td>1/1/2016 21:11</td>\n",
       "      <td>1/1/2016 21:17</td>\n",
       "      <td>Fort Pierce</td>\n",
       "      <td>Fort Pierce</td>\n",
       "      <td>-0.265417</td>\n",
       "      <td>0</td>\n",
       "      <td>0</td>\n",
       "      <td>0</td>\n",
       "      <td>0</td>\n",
       "      <td>0</td>\n",
       "      <td>0</td>\n",
       "      <td>1</td>\n",
       "      <td>0</td>\n",
       "      <td>0</td>\n",
       "      <td>0</td>\n",
       "    </tr>\n",
       "    <tr>\n",
       "      <th>2</th>\n",
       "      <td>1/2/2016 20:25</td>\n",
       "      <td>1/2/2016 20:38</td>\n",
       "      <td>Fort Pierce</td>\n",
       "      <td>Fort Pierce</td>\n",
       "      <td>-0.278479</td>\n",
       "      <td>0</td>\n",
       "      <td>0</td>\n",
       "      <td>0</td>\n",
       "      <td>0</td>\n",
       "      <td>0</td>\n",
       "      <td>1</td>\n",
       "      <td>0</td>\n",
       "      <td>0</td>\n",
       "      <td>0</td>\n",
       "      <td>0</td>\n",
       "    </tr>\n",
       "    <tr>\n",
       "      <th>3</th>\n",
       "      <td>1/5/2016 17:31</td>\n",
       "      <td>1/5/2016 17:45</td>\n",
       "      <td>Fort Pierce</td>\n",
       "      <td>Fort Pierce</td>\n",
       "      <td>-0.282832</td>\n",
       "      <td>0</td>\n",
       "      <td>0</td>\n",
       "      <td>0</td>\n",
       "      <td>0</td>\n",
       "      <td>0</td>\n",
       "      <td>0</td>\n",
       "      <td>0</td>\n",
       "      <td>1</td>\n",
       "      <td>0</td>\n",
       "      <td>0</td>\n",
       "    </tr>\n",
       "    <tr>\n",
       "      <th>4</th>\n",
       "      <td>1/6/2016 14:42</td>\n",
       "      <td>1/6/2016 15:49</td>\n",
       "      <td>Fort Pierce</td>\n",
       "      <td>West Palm Beach</td>\n",
       "      <td>2.285867</td>\n",
       "      <td>0</td>\n",
       "      <td>0</td>\n",
       "      <td>0</td>\n",
       "      <td>0</td>\n",
       "      <td>1</td>\n",
       "      <td>0</td>\n",
       "      <td>0</td>\n",
       "      <td>0</td>\n",
       "      <td>0</td>\n",
       "      <td>0</td>\n",
       "    </tr>\n",
       "    <tr>\n",
       "      <th>5</th>\n",
       "      <td>1/6/2016 17:15</td>\n",
       "      <td>1/6/2016 17:19</td>\n",
       "      <td>West Palm Beach</td>\n",
       "      <td>West Palm Beach</td>\n",
       "      <td>-0.300247</td>\n",
       "      <td>0</td>\n",
       "      <td>0</td>\n",
       "      <td>0</td>\n",
       "      <td>0</td>\n",
       "      <td>0</td>\n",
       "      <td>0</td>\n",
       "      <td>1</td>\n",
       "      <td>0</td>\n",
       "      <td>0</td>\n",
       "      <td>0</td>\n",
       "    </tr>\n",
       "    <tr>\n",
       "      <th>...</th>\n",
       "      <td>...</td>\n",
       "      <td>...</td>\n",
       "      <td>...</td>\n",
       "      <td>...</td>\n",
       "      <td>...</td>\n",
       "      <td>...</td>\n",
       "      <td>...</td>\n",
       "      <td>...</td>\n",
       "      <td>...</td>\n",
       "      <td>...</td>\n",
       "      <td>...</td>\n",
       "      <td>...</td>\n",
       "      <td>...</td>\n",
       "      <td>...</td>\n",
       "      <td>...</td>\n",
       "    </tr>\n",
       "    <tr>\n",
       "      <th>1150</th>\n",
       "      <td>12/31/2016 1:07</td>\n",
       "      <td>12/31/2016 1:14</td>\n",
       "      <td>Kar?chi</td>\n",
       "      <td>Kar?chi</td>\n",
       "      <td>-0.456981</td>\n",
       "      <td>0</td>\n",
       "      <td>0</td>\n",
       "      <td>0</td>\n",
       "      <td>0</td>\n",
       "      <td>0</td>\n",
       "      <td>0</td>\n",
       "      <td>0</td>\n",
       "      <td>1</td>\n",
       "      <td>0</td>\n",
       "      <td>0</td>\n",
       "    </tr>\n",
       "    <tr>\n",
       "      <th>1151</th>\n",
       "      <td>12/31/2016 13:24</td>\n",
       "      <td>12/31/2016 13:42</td>\n",
       "      <td>Kar?chi</td>\n",
       "      <td>Unknown Location</td>\n",
       "      <td>-0.317662</td>\n",
       "      <td>0</td>\n",
       "      <td>0</td>\n",
       "      <td>0</td>\n",
       "      <td>0</td>\n",
       "      <td>0</td>\n",
       "      <td>0</td>\n",
       "      <td>0</td>\n",
       "      <td>0</td>\n",
       "      <td>0</td>\n",
       "      <td>1</td>\n",
       "    </tr>\n",
       "    <tr>\n",
       "      <th>1152</th>\n",
       "      <td>12/31/2016 15:03</td>\n",
       "      <td>12/31/2016 15:38</td>\n",
       "      <td>Unknown Location</td>\n",
       "      <td>Unknown Location</td>\n",
       "      <td>0.217846</td>\n",
       "      <td>0</td>\n",
       "      <td>0</td>\n",
       "      <td>0</td>\n",
       "      <td>0</td>\n",
       "      <td>0</td>\n",
       "      <td>0</td>\n",
       "      <td>0</td>\n",
       "      <td>1</td>\n",
       "      <td>0</td>\n",
       "      <td>0</td>\n",
       "    </tr>\n",
       "    <tr>\n",
       "      <th>1153</th>\n",
       "      <td>12/31/2016 21:32</td>\n",
       "      <td>12/31/2016 21:50</td>\n",
       "      <td>Katunayake</td>\n",
       "      <td>Gampaha</td>\n",
       "      <td>-0.208819</td>\n",
       "      <td>0</td>\n",
       "      <td>0</td>\n",
       "      <td>0</td>\n",
       "      <td>0</td>\n",
       "      <td>0</td>\n",
       "      <td>0</td>\n",
       "      <td>0</td>\n",
       "      <td>0</td>\n",
       "      <td>0</td>\n",
       "      <td>1</td>\n",
       "    </tr>\n",
       "    <tr>\n",
       "      <th>1154</th>\n",
       "      <td>12/31/2016 22:08</td>\n",
       "      <td>12/31/2016 23:51</td>\n",
       "      <td>Gampaha</td>\n",
       "      <td>Ilukwatta</td>\n",
       "      <td>1.611039</td>\n",
       "      <td>0</td>\n",
       "      <td>0</td>\n",
       "      <td>0</td>\n",
       "      <td>0</td>\n",
       "      <td>0</td>\n",
       "      <td>0</td>\n",
       "      <td>0</td>\n",
       "      <td>0</td>\n",
       "      <td>0</td>\n",
       "      <td>1</td>\n",
       "    </tr>\n",
       "  </tbody>\n",
       "</table>\n",
       "<p>653 rows × 15 columns</p>\n",
       "</div>"
      ],
      "text/plain": [
       "            START_DATE          END_DATE             START              STOP  \\\n",
       "0       1/1/2016 21:11    1/1/2016 21:17       Fort Pierce       Fort Pierce   \n",
       "2       1/2/2016 20:25    1/2/2016 20:38       Fort Pierce       Fort Pierce   \n",
       "3       1/5/2016 17:31    1/5/2016 17:45       Fort Pierce       Fort Pierce   \n",
       "4       1/6/2016 14:42    1/6/2016 15:49       Fort Pierce   West Palm Beach   \n",
       "5       1/6/2016 17:15    1/6/2016 17:19   West Palm Beach   West Palm Beach   \n",
       "...                ...               ...               ...               ...   \n",
       "1150   12/31/2016 1:07   12/31/2016 1:14           Kar?chi           Kar?chi   \n",
       "1151  12/31/2016 13:24  12/31/2016 13:42           Kar?chi  Unknown Location   \n",
       "1152  12/31/2016 15:03  12/31/2016 15:38  Unknown Location  Unknown Location   \n",
       "1153  12/31/2016 21:32  12/31/2016 21:50        Katunayake           Gampaha   \n",
       "1154  12/31/2016 22:08  12/31/2016 23:51           Gampaha         Ilukwatta   \n",
       "\n",
       "         MILES  CATEGORY_Personal  PURPOSE_Between Offices  \\\n",
       "0    -0.265417                  0                        0   \n",
       "2    -0.278479                  0                        0   \n",
       "3    -0.282832                  0                        0   \n",
       "4     2.285867                  0                        0   \n",
       "5    -0.300247                  0                        0   \n",
       "...        ...                ...                      ...   \n",
       "1150 -0.456981                  0                        0   \n",
       "1151 -0.317662                  0                        0   \n",
       "1152  0.217846                  0                        0   \n",
       "1153 -0.208819                  0                        0   \n",
       "1154  1.611039                  0                        0   \n",
       "\n",
       "      PURPOSE_Charity ($)  PURPOSE_Commute  PURPOSE_Customer Visit  \\\n",
       "0                       0                0                       0   \n",
       "2                       0                0                       0   \n",
       "3                       0                0                       0   \n",
       "4                       0                0                       1   \n",
       "5                       0                0                       0   \n",
       "...                   ...              ...                     ...   \n",
       "1150                    0                0                       0   \n",
       "1151                    0                0                       0   \n",
       "1152                    0                0                       0   \n",
       "1153                    0                0                       0   \n",
       "1154                    0                0                       0   \n",
       "\n",
       "      PURPOSE_Errand/Supplies  PURPOSE_Meal/Entertain  PURPOSE_Meeting  \\\n",
       "0                           0                       1                0   \n",
       "2                           1                       0                0   \n",
       "3                           0                       0                1   \n",
       "4                           0                       0                0   \n",
       "5                           0                       1                0   \n",
       "...                       ...                     ...              ...   \n",
       "1150                        0                       0                1   \n",
       "1151                        0                       0                0   \n",
       "1152                        0                       0                1   \n",
       "1153                        0                       0                0   \n",
       "1154                        0                       0                0   \n",
       "\n",
       "      PURPOSE_Moving  PURPOSE_Temporary Site  \n",
       "0                  0                       0  \n",
       "2                  0                       0  \n",
       "3                  0                       0  \n",
       "4                  0                       0  \n",
       "5                  0                       0  \n",
       "...              ...                     ...  \n",
       "1150               0                       0  \n",
       "1151               0                       1  \n",
       "1152               0                       0  \n",
       "1153               0                       1  \n",
       "1154               0                       1  \n",
       "\n",
       "[653 rows x 15 columns]"
      ]
     },
     "metadata": {},
     "output_type": "display_data"
    }
   ],
   "source": [
    "from sklearn.preprocessing import StandardScaler\n",
    "\n",
    "# Step 1: Drop rows with missing PURPOSE values\n",
    "data_cleaned = data.dropna(subset=['PURPOSE'])\n",
    "\n",
    "# Step 2: One-Hot Encode categorical variables (CATEGORY and PURPOSE)\n",
    "data_encoded = pd.get_dummies(data_cleaned, columns=['CATEGORY', 'PURPOSE'], drop_first=True)\n",
    "\n",
    "# Step 3: Standard Scale the MILES column\n",
    "scaler = StandardScaler()\n",
    "data_encoded['MILES'] = scaler.fit_transform(data_encoded[['MILES']])\n",
    "\n",
    "# Display the preprocessed data\n",
    "display(data_encoded)  # if using Jupyter Notebook or similar environment\n"
   ]
  },
  {
   "cell_type": "code",
   "execution_count": 31,
   "id": "3f3baa7c",
   "metadata": {},
   "outputs": [
    {
     "data": {
      "text/plain": [
       "(0.9770992366412213,\n",
       " 0.9776577918450939,\n",
       " 0.9770992366412213,\n",
       " '              precision    recall  f1-score   support\\n\\n           0       0.98      1.00      0.99       120\\n           1       1.00      0.73      0.84        11\\n\\n    accuracy                           0.98       131\\n   macro avg       0.99      0.86      0.91       131\\nweighted avg       0.98      0.98      0.98       131\\n')"
      ]
     },
     "execution_count": 31,
     "metadata": {},
     "output_type": "execute_result"
    }
   ],
   "source": [
    "from sklearn.model_selection import train_test_split\n",
    "from sklearn.ensemble import RandomForestClassifier\n",
    "from sklearn.metrics import accuracy_score, precision_score, recall_score, classification_report\n",
    "\n",
    "# Drop irrelevant columns for classification\n",
    "X = data_encoded.drop(columns=['START_DATE', 'END_DATE', 'START', 'STOP', 'PURPOSE_Temporary Site'])\n",
    "y = data_encoded['PURPOSE_Temporary Site']\n",
    "\n",
    "# Split the data into training and testing sets\n",
    "X_train, X_test, y_train, y_test = train_test_split(X, y, test_size=0.2, random_state=42)\n",
    "\n",
    "# Initialize and train the Random Forest classifier\n",
    "model = RandomForestClassifier(random_state=42)\n",
    "model.fit(X_train, y_train)\n",
    "\n",
    "# Predict on the testing set\n",
    "y_pred = model.predict(X_test)\n",
    "\n",
    "# Calculate evaluation metrics\n",
    "accuracy = accuracy_score(y_test, y_pred)\n",
    "precision = precision_score(y_test, y_pred, average='weighted')\n",
    "recall = recall_score(y_test, y_pred, average='weighted')\n",
    "classification_report_output = classification_report(y_test, y_pred)\n",
    "\n",
    "accuracy, precision, recall, classification_report_output\n"
   ]
  },
  {
   "cell_type": "code",
   "execution_count": 32,
   "id": "218d6873",
   "metadata": {},
   "outputs": [
    {
     "data": {
      "text/plain": [
       "(0.9892307692307692, 0.9846153846153847)"
      ]
     },
     "execution_count": 32,
     "metadata": {},
     "output_type": "execute_result"
    }
   ],
   "source": [
    "from sklearn.model_selection import cross_val_score\n",
    "from sklearn.linear_model import LogisticRegression\n",
    "\n",
    "# Cross-validation for Random Forest\n",
    "rf_cross_val_scores = cross_val_score(model, X, y, cv=5, scoring='accuracy').mean()\n",
    "\n",
    "# Train and evaluate Logistic Regression for comparison\n",
    "log_reg_model = LogisticRegression(max_iter=200, random_state=42)\n",
    "log_reg_cross_val_scores = cross_val_score(log_reg_model, X, y, cv=5, scoring='accuracy').mean()\n",
    "\n",
    "rf_cross_val_scores, log_reg_cross_val_scores\n"
   ]
  },
  {
   "cell_type": "code",
   "execution_count": 33,
   "id": "7c545a62",
   "metadata": {},
   "outputs": [
    {
     "data": {
      "image/png": "[encoded data removed]",
      "text/plain": [
       "<Figure size 864x360 with 2 Axes>"
      ]
     },
     "metadata": {
      "needs_background": "light"
     },
     "output_type": "display_data"
    },
    {
     "data": {
      "image/png": "[encoded data removed]",
      "text/plain": [
       "<Figure size 864x360 with 2 Axes>"
      ]
     },
     "metadata": {
      "needs_background": "light"
     },
     "output_type": "display_data"
    }
   ],
   "source": [
    "# Visualization of data distribution\n",
    "import matplotlib.pyplot as plt\n",
    "import seaborn as sns\n",
    "\n",
    "# Plot histogram and boxplot for the numerical feature (MILES)\n",
    "plt.figure(figsize=(12, 5))\n",
    "plt.subplot(1, 2, 1)\n",
    "plt.hist(data_encoded['MILES'], bins=30, edgecolor='black')\n",
    "plt.title('Histogram of MILES')\n",
    "plt.xlabel('Miles')\n",
    "plt.ylabel('Frequency')\n",
    "\n",
    "plt.subplot(1, 2, 2)\n",
    "sns.boxplot(x=data_encoded['MILES'])\n",
    "plt.title('Boxplot of MILES')\n",
    "plt.xlabel('Miles')\n",
    "\n",
    "plt.tight_layout()\n",
    "plt.show()\n",
    "\n",
    "# Bar plots for categorical features\n",
    "plt.figure(figsize=(12, 5))\n",
    "plt.subplot(1, 2, 1)\n",
    "sns.countplot(data=data_cleaned, x='CATEGORY')\n",
    "plt.title('Count Plot of CATEGORY')\n",
    "\n",
    "plt.subplot(1, 2, 2)\n",
    "sns.countplot(data=data_cleaned, x='PURPOSE', order=data_cleaned['PURPOSE'].value_counts().index)\n",
    "plt.title('Count Plot of PURPOSE')\n",
    "plt.xticks(rotation=90)\n",
    "\n",
    "plt.tight_layout()\n",
    "plt.show()\n"
   ]
  },
  {
   "cell_type": "code",
   "execution_count": 34,
   "id": "e30a9f0d",
   "metadata": {},
   "outputs": [
    {
     "data": {
      "image/png": "[encoded data removed]",
      "text/plain": [
       "<Figure size 720x432 with 1 Axes>"
      ]
     },
     "metadata": {
      "needs_background": "light"
     },
     "output_type": "display_data"
    }
   ],
   "source": [
    "# Feature importance visualization for the Random Forest model\n",
    "importances = model.feature_importances_\n",
    "features = X.columns\n",
    "\n",
    "# Sort features by importance\n",
    "feature_importance_df = pd.DataFrame({'Feature': features, 'Importance': importances})\n",
    "feature_importance_df = feature_importance_df.sort_values(by='Importance', ascending=False)\n",
    "\n",
    "# Plot feature importance\n",
    "plt.figure(figsize=(10, 6))\n",
    "sns.barplot(x='Importance', y='Feature', data=feature_importance_df)\n",
    "plt.title('Feature Importance from Random Forest Model')\n",
    "plt.xlabel('Importance Score')\n",
    "plt.ylabel('Feature')\n",
    "plt.show()\n"
   ]
  },
  {
   "cell_type": "code",
   "execution_count": 35,
   "id": "67dad577",
   "metadata": {},
   "outputs": [
    {
     "data": {
      "image/png": "[encoded data removed]",
      "text/plain": [
       "<Figure size 864x360 with 2 Axes>"
      ]
     },
     "metadata": {
      "needs_background": "light"
     },
     "output_type": "display_data"
    }
   ],
   "source": [
    "# Model performance by CATEGORY and PURPOSE\n",
    "\n",
    "# Add predictions to the test set for comparison\n",
    "X_test['Predicted_PURPOSE'] = y_pred\n",
    "X_test['True_PURPOSE'] = y_test\n",
    "\n",
    "# Calculate accuracy by CATEGORY and PURPOSE\n",
    "category_accuracy = X_test.groupby('CATEGORY_Personal').apply(lambda x: (x['Predicted_PURPOSE'] == x['True_PURPOSE']).mean())\n",
    "purpose_accuracy = X_test.groupby('PURPOSE_Meeting').apply(lambda x: (x['Predicted_PURPOSE'] == x['True_PURPOSE']).mean())\n",
    "\n",
    "# Plot accuracy by CATEGORY and PURPOSE\n",
    "plt.figure(figsize=(12, 5))\n",
    "plt.subplot(1, 2, 1)\n",
    "category_accuracy.plot(kind='bar', title='Model Accuracy by CATEGORY', xlabel='CATEGORY (0 = Business, 1 = Personal)', ylabel='Accuracy')\n",
    "\n",
    "plt.subplot(1, 2, 2)\n",
    "purpose_accuracy.plot(kind='bar', title='Model Accuracy by PURPOSE (Meeting)', xlabel='PURPOSE (0 = Other, 1 = Meeting)', ylabel='Accuracy')\n",
    "\n",
    "plt.tight_layout()\n",
    "plt.show()\n"
   ]
  },
  {
   "cell_type": "code",
   "execution_count": null,
   "id": "ed17db45",
   "metadata": {},
   "outputs": [],
   "source": []
  }
 ],
 "metadata": {
  "kernelspec": {
   "display_name": "Python 3 (ipykernel)",
   "language": "python",
   "name": "python3"
  },
  "language_info": {
   "codemirror_mode": {
    "name": "ipython",
    "version": 3
   },
   "file_extension": ".py",
   "mimetype": "text/x-python",
   "name": "python",
   "nbconvert_exporter": "python",
   "pygments_lexer": "ipython3",
   "version": "3.12.4"
  }
 },
 "nbformat": 4,
 "nbformat_minor": 5
}
