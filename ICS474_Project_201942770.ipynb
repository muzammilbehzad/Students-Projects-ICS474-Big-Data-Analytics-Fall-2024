{
 "cells": [
  {
   "cell_type": "markdown",
   "id": "6552de32",
   "metadata": {},
   "source": [
    "# ICS 474 Project (Uber Data Analysis)\n"
   ]
  },
  {
   "cell_type": "markdown",
   "id": "7a429e76",
   "metadata": {},
   "source": [
    "## Part 1: Data Understanding and Exploration"
   ]
  },
  {
   "cell_type": "code",
   "execution_count": 36,
   "id": "38d08914",
   "metadata": {},
   "outputs": [
    {
     "name": "stdout",
     "output_type": "stream",
     "text": [
      "\n",
      "The Uber trip dataset provides details such as:\n",
      "- Start and end times for trips\n",
      "- Trip type (Business or Personal)\n",
      "- Start and end locations\n",
      "- Distance covered (in miles)\n",
      "- Purpose of trips (if recorded)\n",
      "\n",
      "The dataset consists of 1156 rows and 7 columns, and includes some missing values.\n",
      "\n",
      "Dataset Overview:\n",
      "<class 'pandas.core.frame.DataFrame'>\n",
      "RangeIndex: 1156 entries, 0 to 1155\n",
      "Data columns (total 7 columns):\n",
      " #   Column      Non-Null Count  Dtype  \n",
      "---  ------      --------------  -----  \n",
      " 0   START_DATE  1156 non-null   object \n",
      " 1   END_DATE    1155 non-null   object \n",
      " 2   CATEGORY    1155 non-null   object \n",
      " 3   START       1155 non-null   object \n",
      " 4   STOP        1155 non-null   object \n",
      " 5   MILES       1156 non-null   float64\n",
      " 6   PURPOSE     653 non-null    object \n",
      "dtypes: float64(1), object(6)\n",
      "memory usage: 63.3+ KB\n",
      "None\n"
     ]
    }
   ],
   "source": [
    "# Import necessary libraries\n",
    "import pandas as pd\n",
    "import matplotlib.pyplot as plt\n",
    "import seaborn as sns\n",
    "from scipy.stats import zscore\n",
    "\n",
    "# Load the dataset\n",
    "# Replace 'UberDataset.csv' with the path to your dataset file\n",
    "file_path = 'UberDataset.csv'\n",
    "uber_data = pd.read_csv(file_path)\n",
    "\n",
    "# Brief overview of the dataset's content\n",
    "dataset_info = \"\"\"\n",
    "The Uber trip dataset provides details such as:\n",
    "- Start and end times for trips\n",
    "- Trip type (Business or Personal)\n",
    "- Start and end locations\n",
    "- Distance covered (in miles)\n",
    "- Purpose of trips (if recorded)\n",
    "\n",
    "The dataset consists of 1156 rows and 7 columns, and includes some missing values.\n",
    "\"\"\"\n",
    "print(dataset_info)\n",
    "\n",
    "# Display basic information about the dataset\n",
    "print(\"Dataset Overview:\")\n",
    "print(uber_data.info())\n"
   ]
  },
  {
   "cell_type": "code",
   "execution_count": 5,
   "id": "7377306e",
   "metadata": {},
   "outputs": [
    {
     "name": "stdout",
     "output_type": "stream",
     "text": [
      "Feature Names and Data Types:\n",
      "START_DATE     object\n",
      "END_DATE       object\n",
      "CATEGORY       object\n",
      "START          object\n",
      "STOP           object\n",
      "MILES         float64\n",
      "PURPOSE        object\n",
      "dtype: object\n"
     ]
    }
   ],
   "source": [
    "# Display feature names and their data types\n",
    "print(\"Feature Names and Data Types:\")\n",
    "print(uber_data.dtypes)\n"
   ]
  },
  {
   "cell_type": "code",
   "execution_count": 6,
   "id": "f695887d",
   "metadata": {},
   "outputs": [
    {
     "name": "stdout",
     "output_type": "stream",
     "text": [
      "Missing Values in the Dataset:\n",
      "START_DATE      0\n",
      "END_DATE        1\n",
      "CATEGORY        1\n",
      "START           1\n",
      "STOP            1\n",
      "MILES           0\n",
      "PURPOSE       503\n",
      "dtype: int64\n"
     ]
    }
   ],
   "source": [
    "# Count missing values in each column\n",
    "print(\"Missing Values in the Dataset:\")\n",
    "missing_values = uber_data.isnull().sum()\n",
    "print(missing_values)\n"
   ]
  },
  {
   "cell_type": "code",
   "execution_count": 7,
   "id": "7a8f73ea",
   "metadata": {},
   "outputs": [
    {
     "name": "stdout",
     "output_type": "stream",
     "text": [
      "Statistical Summary of the Dataset:\n",
      "              MILES\n",
      "count   1156.000000\n",
      "mean      21.115398\n",
      "std      359.299007\n",
      "min        0.500000\n",
      "25%        2.900000\n",
      "50%        6.000000\n",
      "75%       10.400000\n",
      "max    12204.700000\n"
     ]
    }
   ],
   "source": [
    "# Generate basic statistical summaries for numerical features\n",
    "print(\"Statistical Summary of the Dataset:\")\n",
    "stat_summary = uber_data.describe()\n",
    "print(stat_summary)\n"
   ]
  },
  {
   "cell_type": "code",
   "execution_count": 8,
   "id": "0a4f1016",
   "metadata": {},
   "outputs": [
    {
     "data": {
      "image/png": "[encoded data removed]",
      "text/plain": [
       "<Figure size 720x432 with 1 Axes>"
      ]
     },
     "metadata": {
      "needs_background": "light"
     },
     "output_type": "display_data"
    }
   ],
   "source": [
    "# Visualize the distribution of 'MILES'\n",
    "plt.figure(figsize=(10, 6))\n",
    "plt.hist(uber_data['MILES'].dropna(), bins=30, edgecolor='black', color='skyblue')\n",
    "plt.title(\"Distribution of 'MILES' in Uber Dataset\")\n",
    "plt.xlabel(\"Miles\")\n",
    "plt.ylabel(\"Frequency\")\n",
    "plt.show()\n"
   ]
  },
  {
   "cell_type": "code",
   "execution_count": 9,
   "id": "38d23961",
   "metadata": {},
   "outputs": [
    {
     "name": "stdout",
     "output_type": "stream",
     "text": [
      "Correlation Matrix:\n",
      "       MILES\n",
      "MILES    1.0\n"
     ]
    },
    {
     "data": {
      "image/png": "[encoded data removed]",
      "text/plain": [
       "<Figure size 432x288 with 2 Axes>"
      ]
     },
     "metadata": {
      "needs_background": "light"
     },
     "output_type": "display_data"
    }
   ],
   "source": [
    "# Calculate correlation matrix for numerical features\n",
    "# Currently includes only 'MILES'; more features can be added as required\n",
    "correlation_matrix = uber_data[['MILES']].corr()\n",
    "print(\"Correlation Matrix:\")\n",
    "print(correlation_matrix)\n",
    "\n",
    "# Heatmap for visualizing correlations\n",
    "plt.figure(figsize=(6, 4))\n",
    "sns.heatmap(correlation_matrix, annot=True, cmap='coolwarm', vmin=-1, vmax=1)\n",
    "plt.title(\"Correlation Heatmap for Numerical Features\")\n",
    "plt.show()\n"
   ]
  },
  {
   "cell_type": "code",
   "execution_count": 10,
   "id": "7bcd4951",
   "metadata": {},
   "outputs": [
    {
     "data": {
      "image/png": "[encoded data removed]",
      "text/plain": [
       "<Figure size 576x432 with 1 Axes>"
      ]
     },
     "metadata": {
      "needs_background": "light"
     },
     "output_type": "display_data"
    }
   ],
   "source": [
    "# Boxplot to identify outliers in the 'MILES' column\n",
    "plt.figure(figsize=(8, 6))\n",
    "sns.boxplot(data=uber_data, x='MILES', color='lightcoral')\n",
    "plt.title(\"Outlier Detection in 'MILES'\")\n",
    "plt.show()\n"
   ]
  },
  {
   "cell_type": "code",
   "execution_count": 11,
   "id": "cbb3344d",
   "metadata": {},
   "outputs": [
    {
     "name": "stdout",
     "output_type": "stream",
     "text": [
      "Outliers Detected in 'MILES':\n",
      "        MILES  MILES_zscore\n",
      "1155  12204.7     33.923995\n"
     ]
    }
   ],
   "source": [
    "# Calculate Z-scores for 'MILES' and flag outliers\n",
    "uber_data['MILES_zscore'] = zscore(uber_data['MILES'].dropna())\n",
    "outliers = uber_data[uber_data['MILES_zscore'].abs() > 3]  # Z-scores > 3 considered outliers\n",
    "\n",
    "# Display detected outliers\n",
    "print(\"Outliers Detected in 'MILES':\")\n",
    "print(outliers[['MILES', 'MILES_zscore']])\n"
   ]
  },
  {
   "cell_type": "markdown",
   "id": "8298a13d",
   "metadata": {},
   "source": [
    "## Part 2: Data Preprocessing"
   ]
  },
  {
   "cell_type": "code",
   "execution_count": 14,
   "id": "6cedd15b",
   "metadata": {},
   "outputs": [
    {
     "name": "stdout",
     "output_type": "stream",
     "text": [
      "Missing Values After Handling:\n",
      "START_DATE      0\n",
      "END_DATE        0\n",
      "CATEGORY        0\n",
      "START           0\n",
      "STOP            0\n",
      "MILES           0\n",
      "PURPOSE         0\n",
      "MILES_zscore    0\n",
      "dtype: int64\n"
     ]
    }
   ],
   "source": [
    "# Handling Missing Data\n",
    "\n",
    "# Drop rows with missing values in crucial columns\n",
    "columns_to_clean = ['END_DATE', 'CATEGORY', 'START', 'STOP']\n",
    "uber_data.dropna(subset=columns_to_clean, inplace=True)\n",
    "\n",
    "# Replace missing values in 'PURPOSE' with 'Unknown' to retain as much data as possible\n",
    "uber_data['PURPOSE'].fillna('Unknown', inplace=True)\n",
    "\n",
    "# Confirm all missing values have been addressed\n",
    "print(\"Missing Values After Handling:\")\n",
    "print(uber_data.isnull().sum())\n"
   ]
  },
  {
   "cell_type": "code",
   "execution_count": 15,
   "id": "d02e53ba",
   "metadata": {},
   "outputs": [
    {
     "name": "stdout",
     "output_type": "stream",
     "text": [
      "Dataset After Encoding Categorical Variables:\n",
      "         START_DATE          END_DATE        START             STOP  MILES  \\\n",
      "0  01-01-2016 21:11  01-01-2016 21:17  Fort Pierce      Fort Pierce    5.1   \n",
      "1  01-02-2016 01:25  01-02-2016 01:37  Fort Pierce      Fort Pierce    5.0   \n",
      "2  01-02-2016 20:25  01-02-2016 20:38  Fort Pierce      Fort Pierce    4.8   \n",
      "3  01-05-2016 17:31  01-05-2016 17:45  Fort Pierce      Fort Pierce    4.7   \n",
      "4  01-06-2016 14:42  01-06-2016 15:49  Fort Pierce  West Palm Beach   63.7   \n",
      "\n",
      "   MILES_zscore  CATEGORY_Personal  PURPOSE_Between Offices  \\\n",
      "0     -0.044593                  0                        0   \n",
      "1     -0.044872                  0                        0   \n",
      "2     -0.045429                  0                        0   \n",
      "3     -0.045707                  0                        0   \n",
      "4      0.118573                  0                        0   \n",
      "\n",
      "   PURPOSE_Charity ($)  PURPOSE_Commute  PURPOSE_Customer Visit  \\\n",
      "0                    0                0                       0   \n",
      "1                    0                0                       0   \n",
      "2                    0                0                       0   \n",
      "3                    0                0                       0   \n",
      "4                    0                0                       1   \n",
      "\n",
      "   PURPOSE_Errand/Supplies  PURPOSE_Meal/Entertain  PURPOSE_Meeting  \\\n",
      "0                        0                       1                0   \n",
      "1                        0                       0                0   \n",
      "2                        1                       0                0   \n",
      "3                        0                       0                1   \n",
      "4                        0                       0                0   \n",
      "\n",
      "   PURPOSE_Moving  PURPOSE_Temporary Site  PURPOSE_Unknown  \n",
      "0               0                       0                0  \n",
      "1               0                       0                1  \n",
      "2               0                       0                0  \n",
      "3               0                       0                0  \n",
      "4               0                       0                0  \n"
     ]
    }
   ],
   "source": [
    "# Encoding Categorical Variables\n",
    "\n",
    "# Apply one-hot encoding to categorical columns 'CATEGORY' and 'PURPOSE'\n",
    "categorical_columns = ['CATEGORY', 'PURPOSE']\n",
    "uber_data_encoded = pd.get_dummies(uber_data, columns=categorical_columns, drop_first=True)\n",
    "\n",
    "# Display a snippet of the encoded dataset\n",
    "print(\"Dataset After Encoding Categorical Variables:\")\n",
    "print(uber_data_encoded.head())\n"
   ]
  },
  {
   "cell_type": "code",
   "execution_count": 16,
   "id": "8a1e0f6a",
   "metadata": {},
   "outputs": [
    {
     "name": "stdout",
     "output_type": "stream",
     "text": [
      "Dataset After Scaling 'MILES':\n",
      "      MILES\n",
      "0 -0.253449\n",
      "1 -0.258085\n",
      "2 -0.267358\n",
      "3 -0.271994\n",
      "4  2.463317\n"
     ]
    }
   ],
   "source": [
    "# Feature Scaling\n",
    "\n",
    "# Standardize the 'MILES' column using StandardScaler for uniform feature scaling\n",
    "from sklearn.preprocessing import StandardScaler\n",
    "\n",
    "scaler = StandardScaler()\n",
    "uber_data_encoded['MILES'] = scaler.fit_transform(uber_data_encoded[['MILES']])\n",
    "\n",
    "# Display the first few rows to verify scaling\n",
    "print(\"Dataset After Scaling 'MILES':\")\n",
    "print(uber_data_encoded[['MILES']].head())\n"
   ]
  },
  {
   "cell_type": "code",
   "execution_count": 17,
   "id": "1f8a5f54",
   "metadata": {},
   "outputs": [
    {
     "name": "stdout",
     "output_type": "stream",
     "text": [
      "Final Preprocessed Dataset:\n",
      "      MILES  MILES_zscore  CATEGORY_Personal  PURPOSE_Between Offices  \\\n",
      "0 -0.253449     -0.044593                  0                        0   \n",
      "1 -0.258085     -0.044872                  0                        0   \n",
      "2 -0.267358     -0.045429                  0                        0   \n",
      "3 -0.271994     -0.045707                  0                        0   \n",
      "4  2.463317      0.118573                  0                        0   \n",
      "\n",
      "   PURPOSE_Charity ($)  PURPOSE_Commute  PURPOSE_Customer Visit  \\\n",
      "0                    0                0                       0   \n",
      "1                    0                0                       0   \n",
      "2                    0                0                       0   \n",
      "3                    0                0                       0   \n",
      "4                    0                0                       1   \n",
      "\n",
      "   PURPOSE_Errand/Supplies  PURPOSE_Meal/Entertain  PURPOSE_Meeting  \\\n",
      "0                        0                       1                0   \n",
      "1                        0                       0                0   \n",
      "2                        1                       0                0   \n",
      "3                        0                       0                1   \n",
      "4                        0                       0                0   \n",
      "\n",
      "   PURPOSE_Moving  PURPOSE_Temporary Site  PURPOSE_Unknown  TRIP_DURATION  \n",
      "0               0                       0                0            6.0  \n",
      "1               0                       0                1           12.0  \n",
      "2               0                       0                0           13.0  \n",
      "3               0                       0                0           14.0  \n",
      "4               0                       0                0           67.0  \n"
     ]
    }
   ],
   "source": [
    "# Create new features: Convert dates and calculate trip duration\n",
    "uber_data_encoded['START_DATE'] = pd.to_datetime(uber_data_encoded['START_DATE'], errors='coerce')\n",
    "uber_data_encoded['END_DATE'] = pd.to_datetime(uber_data_encoded['END_DATE'], errors='coerce')\n",
    "\n",
    "# Calculate trip duration in minutes\n",
    "uber_data_encoded['TRIP_DURATION'] = (uber_data_encoded['END_DATE'] - uber_data_encoded['START_DATE']).dt.total_seconds() / 60\n",
    "\n",
    "# Drop columns no longer needed for modeling\n",
    "columns_to_drop = ['START_DATE', 'END_DATE', 'START', 'STOP']\n",
    "final_data = uber_data_encoded.drop(columns=columns_to_drop)\n",
    "\n",
    "# Display the preprocessed dataset\n",
    "print(\"Final Preprocessed Dataset:\")\n",
    "print(final_data.head())\n"
   ]
  },
  {
   "cell_type": "markdown",
   "id": "706f2903",
   "metadata": {},
   "source": [
    "## Part 2: Modeling"
   ]
  },
  {
   "cell_type": "code",
   "execution_count": 20,
   "id": "08a89fca",
   "metadata": {},
   "outputs": [],
   "source": [
    "# Import necessary libraries for machine learning tasks\n",
    "from sklearn.preprocessing import StandardScaler\n",
    "from sklearn.model_selection import train_test_split, cross_val_score, GridSearchCV\n",
    "from sklearn.linear_model import LogisticRegression, LinearRegression\n",
    "from sklearn.ensemble import RandomForestClassifier\n",
    "from sklearn.metrics import accuracy_score, precision_score, recall_score, mean_absolute_error, mean_squared_error\n",
    "import numpy as np\n",
    "\n",
    "# Standardize all features to handle scaling issues\n",
    "scaler = StandardScaler()\n",
    "\n",
    "# Classification: Define features and target\n",
    "X_classification = scaler.fit_transform(final_data.drop(columns=['CATEGORY_Personal']))\n",
    "y_classification = final_data['CATEGORY_Personal']  # Binary classification target\n",
    "\n",
    "# Regression: Define features and target\n",
    "X_regression = scaler.fit_transform(final_data.drop(columns=['MILES']))\n",
    "y_regression = final_data['MILES']\n"
   ]
  },
  {
   "cell_type": "code",
   "execution_count": 21,
   "id": "c92c7e85",
   "metadata": {},
   "outputs": [],
   "source": [
    "# Split data into training and testing sets for classification\n",
    "X_train_class, X_test_class, y_train_class, y_test_class = train_test_split(\n",
    "    X_classification, y_classification, test_size=0.2, random_state=42\n",
    ")\n",
    "\n",
    "# Split data into training and testing sets for regression\n",
    "X_train_reg, X_test_reg, y_train_reg, y_test_reg = train_test_split(\n",
    "    X_regression, y_regression, test_size=0.2, random_state=42\n",
    ")\n"
   ]
  },
  {
   "cell_type": "code",
   "execution_count": 29,
   "id": "539133a2",
   "metadata": {},
   "outputs": [
    {
     "name": "stdout",
     "output_type": "stream",
     "text": [
      "Best Logistic Regression Parameters: {'C': 0.1}\n",
      "Cross-Validation Mean Squared Error for Linear Regression:\n",
      "Mean CV Score (MSE): 0.00\n"
     ]
    }
   ],
   "source": [
    "# Logistic Regression with hyperparameter tuning using GridSearchCV\n",
    "logistic_model = LogisticRegression(max_iter=1000)\n",
    "param_grid = {'C': [0.01, 0.1, 1, 10, 100]}  # Regularization strength\n",
    "grid_search = GridSearchCV(logistic_model, param_grid, cv=5, scoring='accuracy')\n",
    "grid_search.fit(X_train_class, y_train_class)\n",
    "\n",
    "# Best logistic regression model from GridSearchCV\n",
    "best_logistic_model = grid_search.best_estimator_\n",
    "print(\"Best Logistic Regression Parameters:\", grid_search.best_params_)\n",
    "\n",
    "# Train a Random Forest Classifier as an alternative classification model\n",
    "rf_model = RandomForestClassifier(random_state=42)\n",
    "rf_model.fit(X_train_class, y_train_class)\n",
    "\n",
    "# Train a Linear Regression model for regression tasks\n",
    "linear_model = LinearRegression()\n",
    "\n",
    "# Perform cross-validation to evaluate Linear Regression performance\n",
    "cross_val_scores = cross_val_score(linear_model, X_train_reg, y_train_reg, cv=5, scoring='neg_mean_squared_error')\n",
    "linear_model.fit(X_train_reg, y_train_reg)\n",
    "\n",
    "# Display cross-validation results\n",
    "print(\"Cross-Validation Mean Squared Error for Linear Regression:\")\n",
    "print(f\"Mean CV Score (MSE): {-np.mean(cross_val_scores):.2f}\")\n"
   ]
  },
  {
   "cell_type": "code",
   "execution_count": 31,
   "id": "398dfd10",
   "metadata": {},
   "outputs": [
    {
     "name": "stdout",
     "output_type": "stream",
     "text": [
      "\n",
      "Logistic Regression Performance:\n",
      "Accuracy: 0.94\n",
      "Precision: 1.00\n",
      "Recall: 0.07\n",
      "\n",
      "Random Forest Classifier Performance:\n",
      "Accuracy: 0.92\n",
      "Precision: 0.29\n",
      "Recall: 0.13\n"
     ]
    }
   ],
   "source": [
    "# Evaluate the tuned logistic regression model\n",
    "y_pred_class_logistic = best_logistic_model.predict(X_test_class)\n",
    "logistic_accuracy = accuracy_score(y_test_class, y_pred_class_logistic)\n",
    "logistic_precision = precision_score(y_test_class, y_pred_class_logistic, zero_division=1)\n",
    "logistic_recall = recall_score(y_test_class, y_pred_class_logistic, zero_division=1)\n",
    "\n",
    "print(\"\\nLogistic Regression Performance:\")\n",
    "print(f\"Accuracy: {logistic_accuracy:.2f}\")\n",
    "print(f\"Precision: {logistic_precision:.2f}\")\n",
    "print(f\"Recall: {logistic_recall:.2f}\")\n",
    "\n",
    "\n",
    "# Evaluate the random forest classifier\n",
    "y_pred_class_rf = rf_model.predict(X_test_class)\n",
    "rf_accuracy = accuracy_score(y_test_class, y_pred_class_rf)\n",
    "rf_precision = precision_score(y_test_class, y_pred_class_rf, zero_division=1)\n",
    "rf_recall = recall_score(y_test_class, y_pred_class_rf, zero_division=1)\n",
    "\n",
    "print(\"\\nRandom Forest Classifier Performance:\")\n",
    "print(f\"Accuracy: {rf_accuracy:.2f}\")\n",
    "print(f\"Precision: {rf_precision:.2f}\")\n",
    "print(f\"Recall: {rf_recall:.2f}\")"
   ]
  },
  {
   "cell_type": "code",
   "execution_count": 32,
   "id": "4d688bfd",
   "metadata": {},
   "outputs": [
    {
     "name": "stdout",
     "output_type": "stream",
     "text": [
      "\n",
      "Linear Regression Performance:\n",
      "Mean Absolute Error (MAE): 0.00\n",
      "Root Mean Square Error (RMSE): 0.00\n"
     ]
    }
   ],
   "source": [
    "# Evaluate the linear regression model\n",
    "y_pred_reg = linear_model.predict(X_test_reg)\n",
    "regression_mae = mean_absolute_error(y_test_reg, y_pred_reg)\n",
    "regression_rmse = np.sqrt(mean_squared_error(y_test_reg, y_pred_reg))\n",
    "\n",
    "print(\"\\nLinear Regression Performance:\")\n",
    "print(f\"Mean Absolute Error (MAE): {regression_mae:.2f}\")\n",
    "print(f\"Root Mean Square Error (RMSE): {regression_rmse:.2f}\")\n"
   ]
  },
  {
   "cell_type": "markdown",
   "id": "1ca18021",
   "metadata": {},
   "source": [
    "## Part 4: Visualization"
   ]
  },
  {
   "cell_type": "code",
   "execution_count": 33,
   "id": "86dbecee",
   "metadata": {},
   "outputs": [
    {
     "data": {
      "image/png": "[encoded data removed]",
      "text/plain": [
       "<Figure size 720x432 with 1 Axes>"
      ]
     },
     "metadata": {
      "needs_background": "light"
     },
     "output_type": "display_data"
    },
    {
     "data": {
      "image/png": "[encoded data removed]",
      "text/plain": [
       "<Figure size 432x288 with 1 Axes>"
      ]
     },
     "metadata": {
      "needs_background": "light"
     },
     "output_type": "display_data"
    }
   ],
   "source": [
    "# Visualize the distribution of 'MILES' feature\n",
    "plt.figure(figsize=(10, 6))\n",
    "plt.hist(final_data['MILES'], bins=25, edgecolor='black', color='lightgreen')\n",
    "plt.title(\"Distribution of Miles in Dataset\")\n",
    "plt.xlabel(\"Miles\")\n",
    "plt.ylabel(\"Frequency\")\n",
    "plt.show()\n",
    "\n",
    "\n",
    "# Bar plot to show distribution of trip categories (Personal vs Business)\n",
    "category_counts = final_data[['CATEGORY_Personal']].replace({1: 'Personal', 0: 'Business'}).value_counts()\n",
    "plt.figure(figsize=(6, 4))\n",
    "category_counts.plot(kind='bar', color=['lightblue', 'coral'])\n",
    "plt.title(\"Distribution of Trip Categories\")\n",
    "plt.xlabel(\"Trip Category\")\n",
    "plt.ylabel(\"Number of Trips\")\n",
    "plt.xticks(rotation=0)\n",
    "plt.show()\n"
   ]
  },
  {
   "cell_type": "code",
   "execution_count": 34,
   "id": "17739e30",
   "metadata": {},
   "outputs": [
    {
     "data": {
      "image/png": "[encoded data removed]",
      "text/plain": [
       "<Figure size 720x432 with 1 Axes>"
      ]
     },
     "metadata": {
      "needs_background": "light"
     },
     "output_type": "display_data"
    },
    {
     "data": {
      "image/png": "[encoded data removed]",
      "text/plain": [
       "<Figure size 720x432 with 1 Axes>"
      ]
     },
     "metadata": {
      "needs_background": "light"
     },
     "output_type": "display_data"
    }
   ],
   "source": [
    "# Feature importance for classification model (Logistic Regression)\n",
    "classification_feature_names = final_data.drop(columns=['CATEGORY_Personal']).columns\n",
    "\n",
    "if 'coef_' in dir(best_logistic_model):  # Ensure the model has coefficients\n",
    "    plt.figure(figsize=(10, 6))\n",
    "    plt.barh(classification_feature_names, best_logistic_model.coef_[0], color='teal')\n",
    "    plt.title(\"Feature Importance for Classification (Logistic Regression)\")\n",
    "    plt.xlabel(\"Coefficient Value\")\n",
    "    plt.ylabel(\"Features\")\n",
    "    plt.show()\n",
    "else:\n",
    "    print(\"The selected classification model does not support coefficient-based feature importance.\")\n",
    "\n",
    "    \n",
    "# Feature importance for regression model (Linear Regression)\n",
    "regression_feature_names = final_data.drop(columns=['MILES']).columns\n",
    "\n",
    "if 'coef_' in dir(linear_model):  # Ensure the model has coefficients\n",
    "    plt.figure(figsize=(10, 6))\n",
    "    plt.barh(regression_feature_names, linear_model.coef_, color='purple')\n",
    "    plt.title(\"Feature Importance for Regression (Linear Regression)\")\n",
    "    plt.xlabel(\"Coefficient Value\")\n",
    "    plt.ylabel(\"Features\")\n",
    "    plt.show()\n",
    "else:\n",
    "    print(\"The selected regression model does not support coefficient-based feature importance.\")\n"
   ]
  },
  {
   "cell_type": "code",
   "execution_count": 35,
   "id": "05d485ea",
   "metadata": {},
   "outputs": [
    {
     "data": {
      "image/png": "[encoded data removed]",
      "text/plain": [
       "<Figure size 720x432 with 1 Axes>"
      ]
     },
     "metadata": {
      "needs_background": "light"
     },
     "output_type": "display_data"
    }
   ],
   "source": [
    "# Scatter plot to visualize regression model predictions vs actual values for 'MILES'\n",
    "plt.figure(figsize=(10, 6))\n",
    "\n",
    "# Scatter plot for actual values\n",
    "plt.scatter(final_data['TRIP_DURATION'], final_data['MILES'], alpha=0.6, label=\"Actual Miles\", color='skyblue')\n",
    "\n",
    "# Scatter plot for predicted values\n",
    "predicted_duration_index = list(regression_feature_names).index('TRIP_DURATION')  # Find index of 'TRIP_DURATION'\n",
    "plt.scatter(\n",
    "    X_test_reg[:, predicted_duration_index], \n",
    "    y_pred_reg, \n",
    "    alpha=0.6, \n",
    "    color='red', \n",
    "    label=\"Predicted Miles\"\n",
    ")\n",
    "\n",
    "plt.title(\"Miles vs Trip Duration (Model Performance)\")\n",
    "plt.xlabel(\"Trip Duration (minutes)\")\n",
    "plt.ylabel(\"Miles\")\n",
    "plt.legend()\n",
    "plt.show()\n"
   ]
  },
  {
   "cell_type": "code",
   "execution_count": null,
   "id": "19359e4c",
   "metadata": {},
   "outputs": [],
   "source": []
  },
  {
   "cell_type": "code",
   "execution_count": null,
   "id": "2d3f4d74",
   "metadata": {},
   "outputs": [],
   "source": []
  },
  {
   "cell_type": "code",
   "execution_count": null,
   "id": "8d195626",
   "metadata": {},
   "outputs": [],
   "source": []
  }
 ],
 "metadata": {
  "kernelspec": {
   "display_name": "Python 3 (ipykernel)",
   "language": "python",
   "name": "python3"
  },
  "language_info": {
   "codemirror_mode": {
    "name": "ipython",
    "version": 3
   },
   "file_extension": ".py",
   "mimetype": "text/x-python",
   "name": "python",
   "nbconvert_exporter": "python",
   "pygments_lexer": "ipython3",
   "version": "3.9.7"
  }
 },
 "nbformat": 4,
 "nbformat_minor": 5
}
