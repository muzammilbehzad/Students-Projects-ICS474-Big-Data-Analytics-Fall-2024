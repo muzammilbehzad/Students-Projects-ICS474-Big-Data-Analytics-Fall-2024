{
 "cells": [
  {
   "cell_type": "markdown",
   "id": "48220164",
   "metadata": {},
   "source": [
    "# Uber Trip Data Analysis and Modeling"
   ]
  },
  {
   "cell_type": "markdown",
   "id": "f72fba27",
   "metadata": {},
   "source": [
    "Description:\n",
    "This project analyzes Uber trip data, predicts trip categories, and estimates miles traveled using machine learning. It includes preprocessing, exploratory data analysis, modeling, and result evaluation."
   ]
  },
  {
   "cell_type": "markdown",
   "id": "df166276",
   "metadata": {},
   "source": [
    "## How to Run:\n",
    "1. Clone the repository or download the files.\n",
    "2. Install required dependencies\n",
    "\n",
    " ```bash pip install -r requirements.txt```\n",
    "3. Run the Jupyter Notebook:\n",
    "\n",
    " ```bash jupyter notebook notebooks/ICS474_Project_201942770.ipynb```\n"
   ]
  },
  {
   "cell_type": "markdown",
   "id": "fa3bf86e",
   "metadata": {},
   "source": [
    "## Key Outputs:\n",
    "- Processed dataset with scaled and encoded features.\n",
    "- Visualizations of miles distribution and trip categories.\n",
    "- Machine learning models with evaluation metrics.\n"
   ]
  }
 ],
 "metadata": {
  "kernelspec": {
   "display_name": "Python 3 (ipykernel)",
   "language": "python",
   "name": "python3"
  },
  "language_info": {
   "codemirror_mode": {
    "name": "ipython",
    "version": 3
   },
   "file_extension": ".py",
   "mimetype": "text/x-python",
   "name": "python",
   "nbconvert_exporter": "python",
   "pygments_lexer": "ipython3",
   "version": "3.9.7"
  }
 },
 "nbformat": 4,
 "nbformat_minor": 5
}
